{
 "cells": [
  {
   "cell_type": "code",
   "execution_count": 1,
   "metadata": {
    "collapsed": true
   },
   "outputs": [
    {
     "data": {
      "text/plain": "{'char_count': 115142,\n 'word_count': 26120,\n 'sent_count': 3218,\n 'sybl_count': 30678,\n 'notdalechall_count': 5824,\n 'polysyblword_count': 693,\n 'flesch_score': 99.2335102652861,\n 'fleschkincaid_score': 1.434695781862553,\n 'gunningfog_score': 4.307992846517055,\n 'smog_score': 5.780153750528537,\n 'dalechall_score': 7.559805967485725}"
     },
     "execution_count": 1,
     "metadata": {},
     "output_type": "execute_result"
    }
   ],
   "source": [
    "from pathlib import Path\n",
    "from textatistic import Textatistic\n",
    "\n",
    "text = Path('RomeoAndJuliet.txt').read_text(encoding='utf8')\n",
    "readability = Textatistic(text)\n",
    "readability.dict()"
   ]
  }
 ],
 "metadata": {
  "kernelspec": {
   "display_name": "Python 3",
   "language": "python",
   "name": "python3"
  },
  "language_info": {
   "codemirror_mode": {
    "name": "ipython",
    "version": 2
   },
   "file_extension": ".py",
   "mimetype": "text/x-python",
   "name": "python",
   "nbconvert_exporter": "python",
   "pygments_lexer": "ipython2",
   "version": "2.7.6"
  }
 },
 "nbformat": 4,
 "nbformat_minor": 0
}
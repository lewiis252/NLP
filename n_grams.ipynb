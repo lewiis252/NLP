{
 "cells": [
  {
   "cell_type": "code",
   "execution_count": 1,
   "metadata": {
    "collapsed": true
   },
   "outputs": [
    {
     "data": {
      "text/plain": "[WordList(['Today', 'is', 'beautiful']),\n WordList(['is', 'beautiful', 'day']),\n WordList(['beautiful', 'day', 'tomorrow']),\n WordList(['day', 'tomorrow', 'looks']),\n WordList(['tomorrow', 'looks', 'like']),\n WordList(['looks', 'like', 'bad']),\n WordList(['like', 'bad', 'weather'])]"
     },
     "execution_count": 1,
     "metadata": {},
     "output_type": "execute_result"
    }
   ],
   "source": [
    "from textblob import TextBlob\n",
    "\n",
    "text = 'Today is beautiful day. tomorrow looks like bad weather.'\n",
    "blob = TextBlob(text)\n",
    "blob.ngrams()"
   ]
  }
 ],
 "metadata": {
  "kernelspec": {
   "display_name": "Python 3",
   "language": "python",
   "name": "python3"
  },
  "language_info": {
   "codemirror_mode": {
    "name": "ipython",
    "version": 2
   },
   "file_extension": ".py",
   "mimetype": "text/x-python",
   "name": "python",
   "nbconvert_exporter": "python",
   "pygments_lexer": "ipython2",
   "version": "2.7.6"
  }
 },
 "nbformat": 4,
 "nbformat_minor": 0
}